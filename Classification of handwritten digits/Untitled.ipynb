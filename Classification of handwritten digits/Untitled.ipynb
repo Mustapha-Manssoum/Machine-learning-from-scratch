{
 "cells": [
  {
   "cell_type": "markdown",
   "id": "4d53681e",
   "metadata": {},
   "source": [
    "<h1 style=\"font-size:2rem;color:Blue;\"> <center>Classification of handwritten digits using MNIST dataset<br>"
   ]
  },
  {
   "cell_type": "code",
   "execution_count": 227,
   "id": "fc85c17f",
   "metadata": {},
   "outputs": [],
   "source": [
    "import numpy as np\n",
    "import scipy.special\n",
    "import pandas as pd"
   ]
  },
  {
   "cell_type": "code",
   "execution_count": 228,
   "id": "374bf0a6",
   "metadata": {},
   "outputs": [],
   "source": [
    "# convolutional neural network class\n",
    "class Neural_Network:\n",
    "    def __init__(self, input_nodes, hidden_nodes, output_nodes, learning_rate):\n",
    "        self.inodes = input_nodes\n",
    "        self.hnodes = hidden_nodes\n",
    "        self.onodes = output_nodes\n",
    "        self.lr = learning_rate\n",
    "        \n",
    "        # Define our matrices : \n",
    "        # the first matrix will take our input nodes and generate the first hidden : Weight Input to Hidden WIH\n",
    "        self.wih = np.random.rand(self.hnodes, self.inodes) - 0.5\n",
    "        # The wih is a matrix with hnodes rows, inodes columns and contains variables between -0.5 and 0.5\n",
    "        \n",
    "        # This second matrix is going to take the hidden impulses and produce output : Weight from Hidden to Output who\n",
    "        self.who = np.random.rand(self.onodes, self.hnodes) - 0.5\n",
    "        \n",
    "        # Activation function\n",
    "        self.activation_function = lambda x: scipy.special.expit(x)  # Logistic sigmoid\n",
    "        \n",
    "    def train(self, input_list, target_list):\n",
    "        # The forward pass\n",
    "        inputs = np.array(input_list, ndmin=2).T\n",
    "        targets = np.array(target_list, ndmin=2).T\n",
    "        \n",
    "        hidden_inputs = np.dot(self.wih, inputs)\n",
    "        hidden_outputs = self.activation_function(hidden_inputs)\n",
    "        \n",
    "        final_inputs = np.dot(self.who, hidden_outputs)\n",
    "        final_outputs = self.activation_function(final_inputs)\n",
    "        \n",
    "        # The loss\n",
    "        output_errors = targets - final_outputs\n",
    "        \n",
    "        # The backward pass\n",
    "        hidden_errors = np.dot(self.who.T, output_errors)\n",
    "        \n",
    "        # -Update our weights : \n",
    "        \n",
    "        self.who += self.lr * np.dot(output_errors * final_outputs *(1.0 - final_outputs), np.transpose(hidden_outputs))\n",
    "        \n",
    "        self.wih += self.lr * np.dot(hidden_errors * hidden_outputs * (1.0 - hidden_outputs), np.transpose(inputs))\n",
    "        \n",
    "    def predict(self, inputs_list):\n",
    "    # convert inputs_list to 2d array\n",
    "        inputs = np.array(inputs_list, ndmin=2).T\n",
    "\n",
    "        # Calculate signals into hidden layer\n",
    "        hidden_inputs = np.dot(self.wih, inputs)\n",
    "        # Calculate the signals emerging from hidden layer\n",
    "        hidden_outputs = self.activation_function(hidden_inputs)\n",
    "\n",
    "        # calculate signal into the final output layer\n",
    "        final_inputs = np.dot(self.who, hidden_outputs)\n",
    "        # Calculate the signals emerging from final output layer\n",
    "        final_outputs = self.activation_function(final_inputs)\n",
    "\n",
    "        return final_outputs\n"
   ]
  },
  {
   "cell_type": "code",
   "execution_count": 229,
   "id": "e8f3a025",
   "metadata": {},
   "outputs": [],
   "source": [
    "n = Neural_Network(input_nodes=784, hidden_nodes=400, output_nodes=10, learning_rate=0.1)"
   ]
  },
  {
   "cell_type": "markdown",
   "id": "349c066e",
   "metadata": {},
   "source": [
    "Download data from https://www.kaggle.com/datasets/oddrationale/mnist-in-csv or use the **mnist_train_100.csv** as a training dataset and **mnist_test_10.csv** as a test dataset "
   ]
  },
  {
   "cell_type": "code",
   "execution_count": 230,
   "id": "b170a74a",
   "metadata": {},
   "outputs": [
    {
     "data": {
      "text/html": [
       "<div>\n",
       "<style scoped>\n",
       "    .dataframe tbody tr th:only-of-type {\n",
       "        vertical-align: middle;\n",
       "    }\n",
       "\n",
       "    .dataframe tbody tr th {\n",
       "        vertical-align: top;\n",
       "    }\n",
       "\n",
       "    .dataframe thead th {\n",
       "        text-align: right;\n",
       "    }\n",
       "</style>\n",
       "<table border=\"1\" class=\"dataframe\">\n",
       "  <thead>\n",
       "    <tr style=\"text-align: right;\">\n",
       "      <th></th>\n",
       "      <th>label</th>\n",
       "      <th>1x1</th>\n",
       "      <th>1x2</th>\n",
       "      <th>1x3</th>\n",
       "      <th>1x4</th>\n",
       "      <th>1x5</th>\n",
       "      <th>1x6</th>\n",
       "      <th>1x7</th>\n",
       "      <th>1x8</th>\n",
       "      <th>1x9</th>\n",
       "      <th>...</th>\n",
       "      <th>28x19</th>\n",
       "      <th>28x20</th>\n",
       "      <th>28x21</th>\n",
       "      <th>28x22</th>\n",
       "      <th>28x23</th>\n",
       "      <th>28x24</th>\n",
       "      <th>28x25</th>\n",
       "      <th>28x26</th>\n",
       "      <th>28x27</th>\n",
       "      <th>28x28</th>\n",
       "    </tr>\n",
       "  </thead>\n",
       "  <tbody>\n",
       "    <tr>\n",
       "      <th>0</th>\n",
       "      <td>5</td>\n",
       "      <td>0</td>\n",
       "      <td>0</td>\n",
       "      <td>0</td>\n",
       "      <td>0</td>\n",
       "      <td>0</td>\n",
       "      <td>0</td>\n",
       "      <td>0</td>\n",
       "      <td>0</td>\n",
       "      <td>0</td>\n",
       "      <td>...</td>\n",
       "      <td>0</td>\n",
       "      <td>0</td>\n",
       "      <td>0</td>\n",
       "      <td>0</td>\n",
       "      <td>0</td>\n",
       "      <td>0</td>\n",
       "      <td>0</td>\n",
       "      <td>0</td>\n",
       "      <td>0</td>\n",
       "      <td>0</td>\n",
       "    </tr>\n",
       "    <tr>\n",
       "      <th>1</th>\n",
       "      <td>0</td>\n",
       "      <td>0</td>\n",
       "      <td>0</td>\n",
       "      <td>0</td>\n",
       "      <td>0</td>\n",
       "      <td>0</td>\n",
       "      <td>0</td>\n",
       "      <td>0</td>\n",
       "      <td>0</td>\n",
       "      <td>0</td>\n",
       "      <td>...</td>\n",
       "      <td>0</td>\n",
       "      <td>0</td>\n",
       "      <td>0</td>\n",
       "      <td>0</td>\n",
       "      <td>0</td>\n",
       "      <td>0</td>\n",
       "      <td>0</td>\n",
       "      <td>0</td>\n",
       "      <td>0</td>\n",
       "      <td>0</td>\n",
       "    </tr>\n",
       "    <tr>\n",
       "      <th>2</th>\n",
       "      <td>4</td>\n",
       "      <td>0</td>\n",
       "      <td>0</td>\n",
       "      <td>0</td>\n",
       "      <td>0</td>\n",
       "      <td>0</td>\n",
       "      <td>0</td>\n",
       "      <td>0</td>\n",
       "      <td>0</td>\n",
       "      <td>0</td>\n",
       "      <td>...</td>\n",
       "      <td>0</td>\n",
       "      <td>0</td>\n",
       "      <td>0</td>\n",
       "      <td>0</td>\n",
       "      <td>0</td>\n",
       "      <td>0</td>\n",
       "      <td>0</td>\n",
       "      <td>0</td>\n",
       "      <td>0</td>\n",
       "      <td>0</td>\n",
       "    </tr>\n",
       "    <tr>\n",
       "      <th>3</th>\n",
       "      <td>1</td>\n",
       "      <td>0</td>\n",
       "      <td>0</td>\n",
       "      <td>0</td>\n",
       "      <td>0</td>\n",
       "      <td>0</td>\n",
       "      <td>0</td>\n",
       "      <td>0</td>\n",
       "      <td>0</td>\n",
       "      <td>0</td>\n",
       "      <td>...</td>\n",
       "      <td>0</td>\n",
       "      <td>0</td>\n",
       "      <td>0</td>\n",
       "      <td>0</td>\n",
       "      <td>0</td>\n",
       "      <td>0</td>\n",
       "      <td>0</td>\n",
       "      <td>0</td>\n",
       "      <td>0</td>\n",
       "      <td>0</td>\n",
       "    </tr>\n",
       "    <tr>\n",
       "      <th>4</th>\n",
       "      <td>9</td>\n",
       "      <td>0</td>\n",
       "      <td>0</td>\n",
       "      <td>0</td>\n",
       "      <td>0</td>\n",
       "      <td>0</td>\n",
       "      <td>0</td>\n",
       "      <td>0</td>\n",
       "      <td>0</td>\n",
       "      <td>0</td>\n",
       "      <td>...</td>\n",
       "      <td>0</td>\n",
       "      <td>0</td>\n",
       "      <td>0</td>\n",
       "      <td>0</td>\n",
       "      <td>0</td>\n",
       "      <td>0</td>\n",
       "      <td>0</td>\n",
       "      <td>0</td>\n",
       "      <td>0</td>\n",
       "      <td>0</td>\n",
       "    </tr>\n",
       "  </tbody>\n",
       "</table>\n",
       "<p>5 rows × 785 columns</p>\n",
       "</div>"
      ],
      "text/plain": [
       "   label  1x1  1x2  1x3  1x4  1x5  1x6  1x7  1x8  1x9  ...  28x19  28x20  \\\n",
       "0      5    0    0    0    0    0    0    0    0    0  ...      0      0   \n",
       "1      0    0    0    0    0    0    0    0    0    0  ...      0      0   \n",
       "2      4    0    0    0    0    0    0    0    0    0  ...      0      0   \n",
       "3      1    0    0    0    0    0    0    0    0    0  ...      0      0   \n",
       "4      9    0    0    0    0    0    0    0    0    0  ...      0      0   \n",
       "\n",
       "   28x21  28x22  28x23  28x24  28x25  28x26  28x27  28x28  \n",
       "0      0      0      0      0      0      0      0      0  \n",
       "1      0      0      0      0      0      0      0      0  \n",
       "2      0      0      0      0      0      0      0      0  \n",
       "3      0      0      0      0      0      0      0      0  \n",
       "4      0      0      0      0      0      0      0      0  \n",
       "\n",
       "[5 rows x 785 columns]"
      ]
     },
     "execution_count": 230,
     "metadata": {},
     "output_type": "execute_result"
    }
   ],
   "source": [
    "training_data_list = pd.read_csv('mnist_train_60K.csv')\n",
    "training_data_list.head()"
   ]
  },
  {
   "cell_type": "code",
   "execution_count": 231,
   "id": "badb7b20",
   "metadata": {},
   "outputs": [],
   "source": [
    "example = training_data_list.iloc[2]\n",
    "# the first number is the label, the other numbers represent the image 28 * 28 "
   ]
  },
  {
   "cell_type": "code",
   "execution_count": 232,
   "id": "66cacd76",
   "metadata": {},
   "outputs": [
    {
     "name": "stdout",
     "output_type": "stream",
     "text": [
      "The hand written digit image represent the digit 4 \n"
     ]
    }
   ],
   "source": [
    "label = example[0]\n",
    "print(f'The hand written digit image represent the digit {label} ')"
   ]
  },
  {
   "cell_type": "code",
   "execution_count": 233,
   "id": "f38f5134",
   "metadata": {},
   "outputs": [
    {
     "data": {
      "text/plain": [
       "(784,)"
      ]
     },
     "execution_count": 233,
     "metadata": {},
     "output_type": "execute_result"
    }
   ],
   "source": [
    "picture = example[1:] # 1--->785\n",
    "picture.shape"
   ]
  },
  {
   "cell_type": "code",
   "execution_count": 234,
   "id": "5dd3f406",
   "metadata": {},
   "outputs": [
    {
     "data": {
      "text/plain": [
       "<matplotlib.image.AxesImage at 0x1b3db7ee490>"
      ]
     },
     "execution_count": 234,
     "metadata": {},
     "output_type": "execute_result"
    },
    {
     "data": {
      "image/png": "[encoded data removed]",
      "text/plain": [
       "<Figure size 432x288 with 1 Axes>"
      ]
     },
     "metadata": {
      "needs_background": "light"
     },
     "output_type": "display_data"
    }
   ],
   "source": [
    "import matplotlib.pyplot as plt\n",
    "%matplotlib inline\n",
    "plt.imshow(picture.values.reshape(28, 28), cmap='Greys')"
   ]
  },
  {
   "cell_type": "code",
   "execution_count": 84,
   "id": "6594f719",
   "metadata": {},
   "outputs": [
    {
     "name": "stdout",
     "output_type": "stream",
     "text": [
      "Epoch :  1\n",
      "Epoch :  2\n",
      "Epoch :  3\n",
      "Epoch :  4\n",
      "Epoch :  5\n",
      "Epoch :  6\n",
      "Epoch :  7\n",
      "Epoch :  8\n",
      "Epoch :  9\n",
      "Epoch :  10\n"
     ]
    }
   ],
   "source": [
    "# Train the Neural Netwrok\n",
    "\n",
    "# epochs is the number of times the training data set is used for training\n",
    "epochs = 10\n",
    "output_nodes = 10\n",
    "\n",
    "for e in range(epochs):\n",
    "    print('Epoch : ', e + 1)\n",
    "    \n",
    "    # go through all records in the training data set\n",
    "    for i in range(len(training_data_list)):\n",
    "        # split the record by the ',' commas\n",
    "        record = training_data_list.iloc[i]\n",
    "        # scale and shift the inputs\n",
    "        inputs = (np.asfarray(record[1:]) / 255 * 0.99) + 0.01  # get inputs between 0.01 and 1 \n",
    "        \n",
    "        # create the target output values : \n",
    "        # all values are 0.01 except the desired label which is 0.99\n",
    "        targets = np.zeros(output_nodes) + 0.01\n",
    "        # inputs[0] is the target label for this record\n",
    "        targets[int(record[0])] = 0.99\n",
    "        n.train(inputs, targets)"
   ]
  },
  {
   "cell_type": "code",
   "execution_count": 108,
   "id": "b191f54e",
   "metadata": {},
   "outputs": [],
   "source": [
    "# save the best weights after training in a text file\n",
    "\n",
    "best_wih = n.wih\n",
    "best_who = n.who\n",
    "\n",
    "np.savetxt(\"best_wih.txt\", best_wih)\n",
    "np.savetxt(\"best_who.txt\", best_who)"
   ]
  },
  {
   "cell_type": "code",
   "execution_count": 109,
   "id": "0730373e",
   "metadata": {},
   "outputs": [],
   "source": [
    "# TESTING \n",
    "# we are going to use 10 images to test\n",
    "\n",
    "# load the MNIST test data csv file into a list : \n",
    "test_data_list = pd.read_csv('mnist_test_10K.csv')"
   ]
  },
  {
   "cell_type": "code",
   "execution_count": 110,
   "id": "37b905b9",
   "metadata": {},
   "outputs": [
    {
     "data": {
      "text/plain": [
       "<matplotlib.image.AxesImage at 0x1b3da895a90>"
      ]
     },
     "execution_count": 110,
     "metadata": {},
     "output_type": "execute_result"
    },
    {
     "data": {
      "image/png": "[encoded data removed]",
      "text/plain": [
       "<Figure size 432x288 with 1 Axes>"
      ]
     },
     "metadata": {
      "needs_background": "light"
     },
     "output_type": "display_data"
    }
   ],
   "source": [
    "record = test_data_list.iloc[1]\n",
    "\n",
    "picture = np.asfarray(record[1:])\n",
    "plt.imshow(picture.reshape(28, 28), cmap='Greys')"
   ]
  },
  {
   "cell_type": "code",
   "execution_count": 113,
   "id": "83439728",
   "metadata": {},
   "outputs": [],
   "source": [
    "inputs = ((record[1:]) / 255 * 0.99) + 0.01"
   ]
  },
  {
   "cell_type": "code",
   "execution_count": 114,
   "id": "5f5d87b3",
   "metadata": {},
   "outputs": [
    {
     "data": {
      "text/plain": [
       "array([[2.41235127e-03],\n",
       "       [3.56723013e-02],\n",
       "       [9.05185272e-01],\n",
       "       [5.47005381e-02],\n",
       "       [6.62393423e-04],\n",
       "       [5.53341800e-03],\n",
       "       [5.49862573e-03],\n",
       "       [6.20877682e-04],\n",
       "       [4.81113350e-03],\n",
       "       [1.63048501e-04]])"
      ]
     },
     "execution_count": 114,
     "metadata": {},
     "output_type": "execute_result"
    }
   ],
   "source": [
    "n.predict(inputs)"
   ]
  },
  {
   "cell_type": "code",
   "execution_count": 115,
   "id": "c2cfebce",
   "metadata": {},
   "outputs": [
    {
     "name": "stdout",
     "output_type": "stream",
     "text": [
      "Performance :  97.27 %\n"
     ]
    }
   ],
   "source": [
    "scoreCard = []\n",
    "\n",
    "for i in range(len(test_data_list)):\n",
    "    record = test_data_list.iloc[i]\n",
    "    \n",
    "    correct_label = record[0]\n",
    "    \n",
    "    inputs = (np.asfarray(record[1:]) / 255 * 0.99) + 0.01\n",
    "    \n",
    "    outputs = n.predict(inputs)\n",
    "    label = np.argmax(outputs)\n",
    "    \n",
    "    if (label == correct_label):\n",
    "        scoreCard.append(1)\n",
    "    else:\n",
    "        scoreCard.append(0)\n",
    "        \n",
    "scoreCard_array = np.asfarray(scoreCard)\n",
    "performance = scoreCard_array.sum() / scoreCard_array.size\n",
    "print('Performance : ', performance*100,'%')"
   ]
  },
  {
   "cell_type": "markdown",
   "id": "2dbd725e",
   "metadata": {},
   "source": [
    "<h1 style=\"font-size:2rem;color:green;\"><strong> Test on a new dataset </strong></h1>"
   ]
  },
  {
   "cell_type": "code",
   "execution_count": 117,
   "id": "0c921e59",
   "metadata": {},
   "outputs": [],
   "source": [
    "import imageio\n",
    "import glob"
   ]
  },
  {
   "cell_type": "code",
   "execution_count": 136,
   "id": "941bb8d0",
   "metadata": {},
   "outputs": [
    {
     "name": "stdout",
     "output_type": "stream",
     "text": [
      "2\n",
      "Loading image ... new_dataset\\2.png\n",
      "3\n",
      "Loading image ... new_dataset\\3.png\n",
      "4\n",
      "Loading image ... new_dataset\\4.png\n",
      "5\n",
      "Loading image ... new_dataset\\5.png\n",
      "6\n",
      "Loading image ... new_dataset\\6.png\n"
     ]
    }
   ],
   "source": [
    "new_dataset = []\n",
    "path_to_new_dataset = 'new_dataset'\n",
    "for image_file_name in glob.glob(path_to_new_dataset + '/?.png'):\n",
    "    label = int(image_file_name[-5:-4])\n",
    "    print(label)\n",
    "    print('Loading image ...', image_file_name)\n",
    "    \n",
    "    img_array = imageio.imread(image_file_name, as_gray=True)\n",
    "    \n",
    "    img_data = 255.0 - img_array.reshape(784)\n",
    "    \n",
    "    img_data = (img_data / 255.0 * 0.99) + 0.01\n",
    "    \n",
    "    record = np.append(label, img_data)\n",
    "    \n",
    "    new_dataset.append(record)    "
   ]
  },
  {
   "cell_type": "code",
   "execution_count": 221,
   "id": "40c87d97",
   "metadata": {},
   "outputs": [
    {
     "data": {
      "text/plain": [
       "<matplotlib.image.AxesImage at 0x1b3db65d730>"
      ]
     },
     "execution_count": 221,
     "metadata": {},
     "output_type": "execute_result"
    },
    {
     "data": {
      "image/png": "[encoded data removed]",
      "text/plain": [
       "<Figure size 432x288 with 1 Axes>"
      ]
     },
     "metadata": {
      "needs_background": "light"
     },
     "output_type": "display_data"
    }
   ],
   "source": [
    "item = 4\n",
    "plt.imshow(new_dataset[item][1:].reshape(28, 28), cmap='Greys')"
   ]
  },
  {
   "cell_type": "code",
   "execution_count": 222,
   "id": "6c5a1060",
   "metadata": {},
   "outputs": [
    {
     "data": {
      "text/plain": [
       "6.0"
      ]
     },
     "execution_count": 222,
     "metadata": {},
     "output_type": "execute_result"
    }
   ],
   "source": [
    "correct_label = new_dataset[item][0]\n",
    "correct_label"
   ]
  },
  {
   "cell_type": "code",
   "execution_count": 223,
   "id": "cb00e6da",
   "metadata": {},
   "outputs": [
    {
     "name": "stdout",
     "output_type": "stream",
     "text": [
      "Prediction : 6 by [79.21736725]%\n"
     ]
    }
   ],
   "source": [
    "inputs = new_dataset[item][1:]\n",
    "\n",
    "outputs = n.predict(inputs)\n",
    "# print(outputs)\n",
    "\n",
    "prediction = np.argmax(outputs)\n",
    "print(f'Prediction : {prediction} by {outputs[prediction]*100}%')"
   ]
  },
  {
   "cell_type": "code",
   "execution_count": null,
   "id": "bd561fbc",
   "metadata": {},
   "outputs": [],
   "source": []
  },
  {
   "cell_type": "code",
   "execution_count": null,
   "id": "62301c0a",
   "metadata": {},
   "outputs": [],
   "source": []
  }
 ],
 "metadata": {
  "kernelspec": {
   "display_name": "Python 3 (ipykernel)",
   "language": "python",
   "name": "python3"
  },
  "language_info": {
   "codemirror_mode": {
    "name": "ipython",
    "version": 3
   },
   "file_extension": ".py",
   "mimetype": "text/x-python",
   "name": "python",
   "nbconvert_exporter": "python",
   "pygments_lexer": "ipython3",
   "version": "3.9.12"
  }
 },
 "nbformat": 4,
 "nbformat_minor": 5
}
